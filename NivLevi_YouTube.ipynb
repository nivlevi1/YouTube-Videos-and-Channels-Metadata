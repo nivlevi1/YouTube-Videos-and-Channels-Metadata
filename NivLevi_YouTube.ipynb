{
 "cells": [
  {
   "cell_type": "markdown",
   "id": "c43c7821-1ad6-4e4b-81f9-30a3e2ab0927",
   "metadata": {},
   "source": [
    "### Credit : Niv levi - nivvlevi@gmail.com - https://www.linkedin.com/in/niv-levi\n",
    "### Data : https://www.kaggle.com/datasets/thedevastator/revealing-insights-from-youtube-video-and-channel\n",
    "### All visualizations were created in Tableau software.\n",
    "---"
   ]
  },
  {
   "cell_type": "code",
   "execution_count": 2,
   "id": "965c3a46-b6e1-41d9-8329-50b2db2fdaa7",
   "metadata": {},
   "outputs": [],
   "source": [
    "import pandas as pd\n",
    "import numpy as np\n",
    "import matplotlib.pyplot as plt\n",
    "import matplotlib.patches as mpatches\n",
    "import seaborn as sns"
   ]
  },
  {
   "cell_type": "code",
   "execution_count": 3,
   "id": "84431b82-6f87-4ecf-a11a-b78d3dff9c6f",
   "metadata": {},
   "outputs": [],
   "source": [
    "df = pd.read_csv(\"C:/Users/Niv Levi/Desktop/Youtube_data/YouTubeDataset_withChannelElapsed.csv\")"
   ]
  },
  {
   "cell_type": "code",
   "execution_count": 4,
   "id": "142827ed-4744-43b6-9729-3fdf564a1596",
   "metadata": {},
   "outputs": [],
   "source": [
    "df = df.loc[:,['channelId','videoCategoryId','channelViewCount','videoCount','subscriberCount','videoId','channelelapsedtime','channelCommentCount','videoViewCount','VideoCommentCount', 'elapsedtime', 'videoLikeCount','videoDislikeCount','videoPublished']]"
   ]
  },
  {
   "cell_type": "code",
   "execution_count": 5,
   "id": "e04d3239-53f5-4b1b-8def-ba017f2caba3",
   "metadata": {},
   "outputs": [
    {
     "data": {
      "text/html": [
       "<div>\n",
       "<style scoped>\n",
       "    .dataframe tbody tr th:only-of-type {\n",
       "        vertical-align: middle;\n",
       "    }\n",
       "\n",
       "    .dataframe tbody tr th {\n",
       "        vertical-align: top;\n",
       "    }\n",
       "\n",
       "    .dataframe thead th {\n",
       "        text-align: right;\n",
       "    }\n",
       "</style>\n",
       "<table border=\"1\" class=\"dataframe\">\n",
       "  <thead>\n",
       "    <tr style=\"text-align: right;\">\n",
       "      <th></th>\n",
       "      <th>channelId</th>\n",
       "      <th>videoCategoryId</th>\n",
       "      <th>channelViewCount</th>\n",
       "      <th>videoCount</th>\n",
       "      <th>subscriberCount</th>\n",
       "      <th>videoId</th>\n",
       "      <th>channelelapsedtime</th>\n",
       "      <th>channelCommentCount</th>\n",
       "      <th>videoViewCount</th>\n",
       "      <th>VideoCommentCount</th>\n",
       "      <th>elapsedtime</th>\n",
       "      <th>videoLikeCount</th>\n",
       "      <th>videoDislikeCount</th>\n",
       "      <th>videoPublished</th>\n",
       "    </tr>\n",
       "  </thead>\n",
       "  <tbody>\n",
       "    <tr>\n",
       "      <th>0</th>\n",
       "      <td>UCdzU3DSGzyWzN2118yd9X9g</td>\n",
       "      <td>22</td>\n",
       "      <td>14654</td>\n",
       "      <td>30</td>\n",
       "      <td>18</td>\n",
       "      <td>--DwgB78t-c</td>\n",
       "      <td>88705</td>\n",
       "      <td>1</td>\n",
       "      <td>1712</td>\n",
       "      <td>0</td>\n",
       "      <td>50040</td>\n",
       "      <td>10</td>\n",
       "      <td>1</td>\n",
       "      <td>2012-01-19T18:38:28.000Z</td>\n",
       "    </tr>\n",
       "    <tr>\n",
       "      <th>1</th>\n",
       "      <td>UC0UnhAG47DRyVZGVcbhAXhQ</td>\n",
       "      <td>10</td>\n",
       "      <td>105909</td>\n",
       "      <td>51</td>\n",
       "      <td>184</td>\n",
       "      <td>--NZRkXBV7k</td>\n",
       "      <td>93409</td>\n",
       "      <td>8</td>\n",
       "      <td>10916</td>\n",
       "      <td>2</td>\n",
       "      <td>22080</td>\n",
       "      <td>44</td>\n",
       "      <td>3</td>\n",
       "      <td>2015-03-30T04:04:40.000Z</td>\n",
       "    </tr>\n",
       "    <tr>\n",
       "      <th>2</th>\n",
       "      <td>UCXjtAvK5P3wXBGh0vbGylzg</td>\n",
       "      <td>27</td>\n",
       "      <td>48265</td>\n",
       "      <td>72</td>\n",
       "      <td>338</td>\n",
       "      <td>--hoQ2sGG4M</td>\n",
       "      <td>72240</td>\n",
       "      <td>5</td>\n",
       "      <td>3478</td>\n",
       "      <td>2</td>\n",
       "      <td>71544</td>\n",
       "      <td>8</td>\n",
       "      <td>1</td>\n",
       "      <td>2009-08-07T06:51:10.000Z</td>\n",
       "    </tr>\n",
       "    <tr>\n",
       "      <th>3</th>\n",
       "      <td>UCeKHMeUlcLNPLCLUfZUQI2w</td>\n",
       "      <td>26</td>\n",
       "      <td>2116722</td>\n",
       "      <td>172</td>\n",
       "      <td>22051</td>\n",
       "      <td>--sBoaqBlzA</td>\n",
       "      <td>82512</td>\n",
       "      <td>74</td>\n",
       "      <td>19497</td>\n",
       "      <td>10</td>\n",
       "      <td>54096</td>\n",
       "      <td>161</td>\n",
       "      <td>6</td>\n",
       "      <td>2011-08-04T01:07:38.000Z</td>\n",
       "    </tr>\n",
       "    <tr>\n",
       "      <th>4</th>\n",
       "      <td>UCNWPDyaWf2eAHnofFLSnEMg</td>\n",
       "      <td>20</td>\n",
       "      <td>1649075</td>\n",
       "      <td>2777</td>\n",
       "      <td>220</td>\n",
       "      <td>--7h1S4neDM</td>\n",
       "      <td>31248</td>\n",
       "      <td>0</td>\n",
       "      <td>2201</td>\n",
       "      <td>0</td>\n",
       "      <td>30120</td>\n",
       "      <td>1</td>\n",
       "      <td>0</td>\n",
       "      <td>2014-04-29T15:44:44.000Z</td>\n",
       "    </tr>\n",
       "  </tbody>\n",
       "</table>\n",
       "</div>"
      ],
      "text/plain": [
       "                  channelId  videoCategoryId  channelViewCount  videoCount  \\\n",
       "0  UCdzU3DSGzyWzN2118yd9X9g               22             14654          30   \n",
       "1  UC0UnhAG47DRyVZGVcbhAXhQ               10            105909          51   \n",
       "2  UCXjtAvK5P3wXBGh0vbGylzg               27             48265          72   \n",
       "3  UCeKHMeUlcLNPLCLUfZUQI2w               26           2116722         172   \n",
       "4  UCNWPDyaWf2eAHnofFLSnEMg               20           1649075        2777   \n",
       "\n",
       "   subscriberCount      videoId  channelelapsedtime  channelCommentCount  \\\n",
       "0               18  --DwgB78t-c               88705                    1   \n",
       "1              184  --NZRkXBV7k               93409                    8   \n",
       "2              338  --hoQ2sGG4M               72240                    5   \n",
       "3            22051  --sBoaqBlzA               82512                   74   \n",
       "4              220  --7h1S4neDM               31248                    0   \n",
       "\n",
       "   videoViewCount  VideoCommentCount  elapsedtime  videoLikeCount  \\\n",
       "0            1712                  0        50040              10   \n",
       "1           10916                  2        22080              44   \n",
       "2            3478                  2        71544               8   \n",
       "3           19497                 10        54096             161   \n",
       "4            2201                  0        30120               1   \n",
       "\n",
       "   videoDislikeCount            videoPublished  \n",
       "0                  1  2012-01-19T18:38:28.000Z  \n",
       "1                  3  2015-03-30T04:04:40.000Z  \n",
       "2                  1  2009-08-07T06:51:10.000Z  \n",
       "3                  6  2011-08-04T01:07:38.000Z  \n",
       "4                  0  2014-04-29T15:44:44.000Z  "
      ]
     },
     "execution_count": 5,
     "metadata": {},
     "output_type": "execute_result"
    }
   ],
   "source": [
    "df.head()"
   ]
  },
  {
   "cell_type": "markdown",
   "id": "da6fed7d-9a1d-48b7-8ac8-0ee96e197aa1",
   "metadata": {},
   "source": [
    "---\n",
    "> ### 1. Data info:"
   ]
  },
  {
   "cell_type": "markdown",
   "id": "18f7fd77-7b5a-4a90-829e-c9c813606197",
   "metadata": {},
   "source": [
    "#### 1.1 What is the size of the data?"
   ]
  },
  {
   "cell_type": "code",
   "execution_count": null,
   "id": "8913c7c1-a036-4301-8182-c2f11627be44",
   "metadata": {},
   "outputs": [
    {
     "data": {
      "text/plain": [
       "(575610, 14)"
      ]
     },
     "execution_count": 5,
     "metadata": {},
     "output_type": "execute_result"
    }
   ],
   "source": [
    "df.shape"
   ]
  },
  {
   "cell_type": "markdown",
   "id": "9d7594ef-1347-4c02-9d71-6173dc62012b",
   "metadata": {},
   "source": [
    "#### 1.2 What is the size each column?"
   ]
  },
  {
   "cell_type": "code",
   "execution_count": null,
   "id": "226aa6f0-aeb8-4e65-8074-980dccbf9cb5",
   "metadata": {},
   "outputs": [
    {
     "data": {
      "text/plain": [
       "channelId              575610\n",
       "videoCategoryId        575610\n",
       "channelViewCount       575610\n",
       "videoCount             575610\n",
       "subscriberCount        575610\n",
       "videoId                575610\n",
       "channelelapsedtime     575610\n",
       "channelCommentCount    575610\n",
       "videoViewCount         575610\n",
       "VideoCommentCount      575610\n",
       "elapsedtime            575610\n",
       "videoLikeCount         575610\n",
       "videoDislikeCount      575610\n",
       "videoPublished         575610\n",
       "dtype: int64"
      ]
     },
     "execution_count": 6,
     "metadata": {},
     "output_type": "execute_result"
    }
   ],
   "source": [
    "df.count()"
   ]
  },
  {
   "cell_type": "markdown",
   "id": "4ebdb2f6-15fc-4802-bb9f-6d31fa91b1a6",
   "metadata": {},
   "source": [
    "---\n",
    "> ### 2. Data preparing:\n",
    "- In terms of Data preparing, there is no much work to do. The data is well formerd.\n",
    "    - The type of each column is fit.\n",
    "    - There is no missing values.\n",
    "    - I arranged the \"videoPublished\" to 4 separate time columns (Weekday, Day, Month, Year)."
   ]
  },
  {
   "cell_type": "markdown",
   "id": "54c77c1d-8776-4448-8ab4-49ff9060cf79",
   "metadata": {},
   "source": [
    "#### 2.1 Lets chack the coloum's type :"
   ]
  },
  {
   "cell_type": "code",
   "execution_count": null,
   "id": "a4989206-cd93-4a32-acdd-8c991aec71af",
   "metadata": {},
   "outputs": [
    {
     "data": {
      "text/plain": [
       "channelId              object\n",
       "videoCategoryId         int64\n",
       "channelViewCount        int64\n",
       "videoCount              int64\n",
       "subscriberCount         int64\n",
       "videoId                object\n",
       "channelelapsedtime      int64\n",
       "channelCommentCount     int64\n",
       "videoViewCount          int64\n",
       "VideoCommentCount       int64\n",
       "elapsedtime             int64\n",
       "videoLikeCount          int64\n",
       "videoDislikeCount       int64\n",
       "videoPublished         object\n",
       "dtype: object"
      ]
     },
     "execution_count": 7,
     "metadata": {},
     "output_type": "execute_result"
    }
   ],
   "source": [
    "df.dtypes"
   ]
  },
  {
   "cell_type": "code",
   "execution_count": null,
   "id": "bd0961c7-ead8-4b60-b148-543feb805f77",
   "metadata": {},
   "outputs": [
    {
     "data": {
      "text/plain": [
       "channelId              0\n",
       "videoCategoryId        0\n",
       "channelViewCount       0\n",
       "videoCount             0\n",
       "subscriberCount        0\n",
       "videoId                0\n",
       "channelelapsedtime     0\n",
       "channelCommentCount    0\n",
       "videoViewCount         0\n",
       "VideoCommentCount      0\n",
       "elapsedtime            0\n",
       "videoLikeCount         0\n",
       "videoDislikeCount      0\n",
       "videoPublished         0\n",
       "dtype: int64"
      ]
     },
     "execution_count": 8,
     "metadata": {},
     "output_type": "execute_result"
    }
   ],
   "source": [
    "df.isnull().sum() "
   ]
  },
  {
   "cell_type": "code",
   "execution_count": 6,
   "id": "328e9b6c-6137-4fe4-ad10-ef03ed8a4f66",
   "metadata": {},
   "outputs": [
    {
     "name": "stderr",
     "output_type": "stream",
     "text": [
      "C:\\Users\\Niv Levi\\AppData\\Local\\Temp\\ipykernel_15500\\3277130664.py:6: FutureWarning: In a future version of pandas all arguments of DataFrame.drop except for the argument 'labels' will be keyword-only.\n",
      "  df = df.drop('videoPublished', 1) #Date column is no longer necessary\n"
     ]
    }
   ],
   "source": [
    "df['videoPublished'] = pd.DatetimeIndex(df.videoPublished)\n",
    "df['Weekday'] = df['videoPublished'].dt.strftime('%A')\n",
    "df['Day'] = pd.DatetimeIndex(df.videoPublished).day\n",
    "df['Month'] = pd.DatetimeIndex(df.videoPublished).month\n",
    "df['Year'] = pd.DatetimeIndex(df.videoPublished).year\n",
    "df = df.drop('videoPublished', 1) #Date column is no longer necessary"
   ]
  },
  {
   "cell_type": "code",
   "execution_count": null,
   "id": "79ff9148-0fb6-43dc-82be-bc9ee7a47347",
   "metadata": {},
   "outputs": [
    {
     "data": {
      "text/html": [
       "<div>\n",
       "<style scoped>\n",
       "    .dataframe tbody tr th:only-of-type {\n",
       "        vertical-align: middle;\n",
       "    }\n",
       "\n",
       "    .dataframe tbody tr th {\n",
       "        vertical-align: top;\n",
       "    }\n",
       "\n",
       "    .dataframe thead th {\n",
       "        text-align: right;\n",
       "    }\n",
       "</style>\n",
       "<table border=\"1\" class=\"dataframe\">\n",
       "  <thead>\n",
       "    <tr style=\"text-align: right;\">\n",
       "      <th></th>\n",
       "      <th>channelId</th>\n",
       "      <th>videoCategoryId</th>\n",
       "      <th>channelViewCount</th>\n",
       "      <th>videoCount</th>\n",
       "      <th>subscriberCount</th>\n",
       "      <th>videoId</th>\n",
       "      <th>channelelapsedtime</th>\n",
       "      <th>channelCommentCount</th>\n",
       "      <th>videoViewCount</th>\n",
       "      <th>VideoCommentCount</th>\n",
       "      <th>elapsedtime</th>\n",
       "      <th>videoLikeCount</th>\n",
       "      <th>videoDislikeCount</th>\n",
       "      <th>Weekday</th>\n",
       "      <th>Day</th>\n",
       "      <th>Month</th>\n",
       "      <th>Year</th>\n",
       "    </tr>\n",
       "  </thead>\n",
       "  <tbody>\n",
       "    <tr>\n",
       "      <th>0</th>\n",
       "      <td>UCdzU3DSGzyWzN2118yd9X9g</td>\n",
       "      <td>22</td>\n",
       "      <td>14654</td>\n",
       "      <td>30</td>\n",
       "      <td>18</td>\n",
       "      <td>--DwgB78t-c</td>\n",
       "      <td>88705</td>\n",
       "      <td>1</td>\n",
       "      <td>1712</td>\n",
       "      <td>0</td>\n",
       "      <td>50040</td>\n",
       "      <td>10</td>\n",
       "      <td>1</td>\n",
       "      <td>Thursday</td>\n",
       "      <td>19</td>\n",
       "      <td>1</td>\n",
       "      <td>2012</td>\n",
       "    </tr>\n",
       "    <tr>\n",
       "      <th>1</th>\n",
       "      <td>UC0UnhAG47DRyVZGVcbhAXhQ</td>\n",
       "      <td>10</td>\n",
       "      <td>105909</td>\n",
       "      <td>51</td>\n",
       "      <td>184</td>\n",
       "      <td>--NZRkXBV7k</td>\n",
       "      <td>93409</td>\n",
       "      <td>8</td>\n",
       "      <td>10916</td>\n",
       "      <td>2</td>\n",
       "      <td>22080</td>\n",
       "      <td>44</td>\n",
       "      <td>3</td>\n",
       "      <td>Monday</td>\n",
       "      <td>30</td>\n",
       "      <td>3</td>\n",
       "      <td>2015</td>\n",
       "    </tr>\n",
       "    <tr>\n",
       "      <th>2</th>\n",
       "      <td>UCXjtAvK5P3wXBGh0vbGylzg</td>\n",
       "      <td>27</td>\n",
       "      <td>48265</td>\n",
       "      <td>72</td>\n",
       "      <td>338</td>\n",
       "      <td>--hoQ2sGG4M</td>\n",
       "      <td>72240</td>\n",
       "      <td>5</td>\n",
       "      <td>3478</td>\n",
       "      <td>2</td>\n",
       "      <td>71544</td>\n",
       "      <td>8</td>\n",
       "      <td>1</td>\n",
       "      <td>Friday</td>\n",
       "      <td>7</td>\n",
       "      <td>8</td>\n",
       "      <td>2009</td>\n",
       "    </tr>\n",
       "    <tr>\n",
       "      <th>3</th>\n",
       "      <td>UCeKHMeUlcLNPLCLUfZUQI2w</td>\n",
       "      <td>26</td>\n",
       "      <td>2116722</td>\n",
       "      <td>172</td>\n",
       "      <td>22051</td>\n",
       "      <td>--sBoaqBlzA</td>\n",
       "      <td>82512</td>\n",
       "      <td>74</td>\n",
       "      <td>19497</td>\n",
       "      <td>10</td>\n",
       "      <td>54096</td>\n",
       "      <td>161</td>\n",
       "      <td>6</td>\n",
       "      <td>Thursday</td>\n",
       "      <td>4</td>\n",
       "      <td>8</td>\n",
       "      <td>2011</td>\n",
       "    </tr>\n",
       "    <tr>\n",
       "      <th>4</th>\n",
       "      <td>UCNWPDyaWf2eAHnofFLSnEMg</td>\n",
       "      <td>20</td>\n",
       "      <td>1649075</td>\n",
       "      <td>2777</td>\n",
       "      <td>220</td>\n",
       "      <td>--7h1S4neDM</td>\n",
       "      <td>31248</td>\n",
       "      <td>0</td>\n",
       "      <td>2201</td>\n",
       "      <td>0</td>\n",
       "      <td>30120</td>\n",
       "      <td>1</td>\n",
       "      <td>0</td>\n",
       "      <td>Tuesday</td>\n",
       "      <td>29</td>\n",
       "      <td>4</td>\n",
       "      <td>2014</td>\n",
       "    </tr>\n",
       "  </tbody>\n",
       "</table>\n",
       "</div>"
      ],
      "text/plain": [
       "                  channelId  videoCategoryId  channelViewCount  videoCount  \\\n",
       "0  UCdzU3DSGzyWzN2118yd9X9g               22             14654          30   \n",
       "1  UC0UnhAG47DRyVZGVcbhAXhQ               10            105909          51   \n",
       "2  UCXjtAvK5P3wXBGh0vbGylzg               27             48265          72   \n",
       "3  UCeKHMeUlcLNPLCLUfZUQI2w               26           2116722         172   \n",
       "4  UCNWPDyaWf2eAHnofFLSnEMg               20           1649075        2777   \n",
       "\n",
       "   subscriberCount      videoId  channelelapsedtime  channelCommentCount  \\\n",
       "0               18  --DwgB78t-c               88705                    1   \n",
       "1              184  --NZRkXBV7k               93409                    8   \n",
       "2              338  --hoQ2sGG4M               72240                    5   \n",
       "3            22051  --sBoaqBlzA               82512                   74   \n",
       "4              220  --7h1S4neDM               31248                    0   \n",
       "\n",
       "   videoViewCount  VideoCommentCount  elapsedtime  videoLikeCount  \\\n",
       "0            1712                  0        50040              10   \n",
       "1           10916                  2        22080              44   \n",
       "2            3478                  2        71544               8   \n",
       "3           19497                 10        54096             161   \n",
       "4            2201                  0        30120               1   \n",
       "\n",
       "   videoDislikeCount   Weekday  Day  Month  Year  \n",
       "0                  1  Thursday   19      1  2012  \n",
       "1                  3    Monday   30      3  2015  \n",
       "2                  1    Friday    7      8  2009  \n",
       "3                  6  Thursday    4      8  2011  \n",
       "4                  0   Tuesday   29      4  2014  "
      ]
     },
     "execution_count": 10,
     "metadata": {},
     "output_type": "execute_result"
    }
   ],
   "source": [
    "df.head()\n",
    "#df.to_csv('youtubeNew.csv')"
   ]
  },
  {
   "cell_type": "markdown",
   "id": "25b9726f-4e7f-42a9-bf93-b6d243ca8f1b",
   "metadata": {},
   "source": [
    "---\n",
    "> ### 3. Data Understanding:"
   ]
  },
  {
   "cell_type": "markdown",
   "id": "f8861439-2116-4c2a-8b34-f8ce09c532e6",
   "metadata": {},
   "source": [
    "- Some channels appear several times"
   ]
  },
  {
   "cell_type": "code",
   "execution_count": null,
   "id": "77d30f4b-c8e1-4f5f-94a5-50aeb4ced6b9",
   "metadata": {},
   "outputs": [
    {
     "data": {
      "text/plain": [
       "449980"
      ]
     },
     "execution_count": 11,
     "metadata": {},
     "output_type": "execute_result"
    }
   ],
   "source": [
    "len(df['channelId'].unique())"
   ]
  },
  {
   "cell_type": "markdown",
   "id": "80f1cdc4-a929-4d03-80d9-072e5dfa2f71",
   "metadata": {},
   "source": [
    "- Which channel is the most poupolar ?"
   ]
  },
  {
   "cell_type": "code",
   "execution_count": null,
   "id": "a769664d-1481-46b8-bce2-59dc2a7876b2",
   "metadata": {},
   "outputs": [
    {
     "data": {
      "text/html": [
       "<div>\n",
       "<style scoped>\n",
       "    .dataframe tbody tr th:only-of-type {\n",
       "        vertical-align: middle;\n",
       "    }\n",
       "\n",
       "    .dataframe tbody tr th {\n",
       "        vertical-align: top;\n",
       "    }\n",
       "\n",
       "    .dataframe thead th {\n",
       "        text-align: right;\n",
       "    }\n",
       "</style>\n",
       "<table border=\"1\" class=\"dataframe\">\n",
       "  <thead>\n",
       "    <tr style=\"text-align: right;\">\n",
       "      <th></th>\n",
       "      <th>channelId</th>\n",
       "      <th>subscriberCount</th>\n",
       "    </tr>\n",
       "  </thead>\n",
       "  <tbody>\n",
       "    <tr>\n",
       "      <th>379624</th>\n",
       "      <td>UCq-Fj5jknLsUf-MWSy4_brA</td>\n",
       "      <td>25253114</td>\n",
       "    </tr>\n",
       "    <tr>\n",
       "      <th>1063</th>\n",
       "      <td>UC-8Q-hLdECwQmaWNwXitYDw</td>\n",
       "      <td>24412286</td>\n",
       "    </tr>\n",
       "    <tr>\n",
       "      <th>202008</th>\n",
       "      <td>UCRijo3ddMTht_IHyNSNXpNQ</td>\n",
       "      <td>22905062</td>\n",
       "    </tr>\n",
       "    <tr>\n",
       "      <th>246385</th>\n",
       "      <td>UCY30JRSgfhYXA6i6xX1erWg</td>\n",
       "      <td>22734349</td>\n",
       "    </tr>\n",
       "    <tr>\n",
       "      <th>277578</th>\n",
       "      <td>UCbW18JZRgko_mOGm5er8Yzg</td>\n",
       "      <td>22643492</td>\n",
       "    </tr>\n",
       "    <tr>\n",
       "      <th>...</th>\n",
       "      <td>...</td>\n",
       "      <td>...</td>\n",
       "    </tr>\n",
       "    <tr>\n",
       "      <th>200856</th>\n",
       "      <td>UCRZch_mmBBPc9PfFhtPB5qw</td>\n",
       "      <td>0</td>\n",
       "    </tr>\n",
       "    <tr>\n",
       "      <th>318105</th>\n",
       "      <td>UChG-IDT6iO9Dg1q0jr500wg</td>\n",
       "      <td>0</td>\n",
       "    </tr>\n",
       "    <tr>\n",
       "      <th>248153</th>\n",
       "      <td>UCYJ9fVMHU96go4Wt18zmXkQ</td>\n",
       "      <td>0</td>\n",
       "    </tr>\n",
       "    <tr>\n",
       "      <th>318116</th>\n",
       "      <td>UChG5Ggz0xZAmKcrGLB9RHcA</td>\n",
       "      <td>0</td>\n",
       "    </tr>\n",
       "    <tr>\n",
       "      <th>356387</th>\n",
       "      <td>UCmkTv7kIj3JzOGCAh5KWZpA</td>\n",
       "      <td>0</td>\n",
       "    </tr>\n",
       "  </tbody>\n",
       "</table>\n",
       "<p>449980 rows × 2 columns</p>\n",
       "</div>"
      ],
      "text/plain": [
       "                       channelId  subscriberCount\n",
       "379624  UCq-Fj5jknLsUf-MWSy4_brA         25253114\n",
       "1063    UC-8Q-hLdECwQmaWNwXitYDw         24412286\n",
       "202008  UCRijo3ddMTht_IHyNSNXpNQ         22905062\n",
       "246385  UCY30JRSgfhYXA6i6xX1erWg         22734349\n",
       "277578  UCbW18JZRgko_mOGm5er8Yzg         22643492\n",
       "...                          ...              ...\n",
       "200856  UCRZch_mmBBPc9PfFhtPB5qw                0\n",
       "318105  UChG-IDT6iO9Dg1q0jr500wg                0\n",
       "248153  UCYJ9fVMHU96go4Wt18zmXkQ                0\n",
       "318116  UChG5Ggz0xZAmKcrGLB9RHcA                0\n",
       "356387  UCmkTv7kIj3JzOGCAh5KWZpA                0\n",
       "\n",
       "[449980 rows x 2 columns]"
      ]
     },
     "execution_count": 12,
     "metadata": {},
     "output_type": "execute_result"
    }
   ],
   "source": [
    "grouped = df.groupby(['channelId'])['subscriberCount'].aggregate('max').reset_index()\n",
    "grouped.sort_values('subscriberCount', ascending=False)"
   ]
  },
  {
   "cell_type": "markdown",
   "id": "8479e582-14f8-4520-8100-8a266fdaba69",
   "metadata": {},
   "source": [
    "- Maybe the data is fake? How is it possible that there is no increase in the number of subscribers on the most popular channel in the years that YouTube has prospered?"
   ]
  },
  {
   "cell_type": "code",
   "execution_count": null,
   "id": "ace228a0-283a-4c1e-9900-42270940980e",
   "metadata": {},
   "outputs": [
    {
     "data": {
      "text/html": [
       "<div>\n",
       "<style scoped>\n",
       "    .dataframe tbody tr th:only-of-type {\n",
       "        vertical-align: middle;\n",
       "    }\n",
       "\n",
       "    .dataframe tbody tr th {\n",
       "        vertical-align: top;\n",
       "    }\n",
       "\n",
       "    .dataframe thead th {\n",
       "        text-align: right;\n",
       "    }\n",
       "</style>\n",
       "<table border=\"1\" class=\"dataframe\">\n",
       "  <thead>\n",
       "    <tr style=\"text-align: right;\">\n",
       "      <th></th>\n",
       "      <th>Year</th>\n",
       "      <th>subscriberCount</th>\n",
       "    </tr>\n",
       "  </thead>\n",
       "  <tbody>\n",
       "    <tr>\n",
       "      <th>0</th>\n",
       "      <td>2011</td>\n",
       "      <td>25253114</td>\n",
       "    </tr>\n",
       "    <tr>\n",
       "      <th>1</th>\n",
       "      <td>2012</td>\n",
       "      <td>24066694</td>\n",
       "    </tr>\n",
       "    <tr>\n",
       "      <th>2</th>\n",
       "      <td>2013</td>\n",
       "      <td>25250221</td>\n",
       "    </tr>\n",
       "    <tr>\n",
       "      <th>3</th>\n",
       "      <td>2014</td>\n",
       "      <td>25246906</td>\n",
       "    </tr>\n",
       "    <tr>\n",
       "      <th>4</th>\n",
       "      <td>2015</td>\n",
       "      <td>24065449</td>\n",
       "    </tr>\n",
       "  </tbody>\n",
       "</table>\n",
       "</div>"
      ],
      "text/plain": [
       "   Year  subscriberCount\n",
       "0  2011         25253114\n",
       "1  2012         24066694\n",
       "2  2013         25250221\n",
       "3  2014         25246906\n",
       "4  2015         24065449"
      ]
     },
     "execution_count": 13,
     "metadata": {},
     "output_type": "execute_result"
    }
   ],
   "source": [
    "most_popular = df[df.loc[:,'channelId'] == 'UCq-Fj5jknLsUf-MWSy4_brA']\n",
    "most_popular.groupby(['Year'])['subscriberCount'].aggregate('max').reset_index()"
   ]
  },
  {
   "cell_type": "markdown",
   "id": "6906e127-1cbf-47f8-a7c8-50ae9977e28c",
   "metadata": {},
   "source": [
    "- An equal number of channel checks were not performed every year.\n",
    "  So my anlyzing will be established on averages."
   ]
  },
  {
   "cell_type": "code",
   "execution_count": null,
   "id": "5717aa94-bad7-4f74-b3da-436f6de36290",
   "metadata": {},
   "outputs": [
    {
     "data": {
      "text/html": [
       "<div>\n",
       "<style scoped>\n",
       "    .dataframe tbody tr th:only-of-type {\n",
       "        vertical-align: middle;\n",
       "    }\n",
       "\n",
       "    .dataframe tbody tr th {\n",
       "        vertical-align: top;\n",
       "    }\n",
       "\n",
       "    .dataframe thead th {\n",
       "        text-align: right;\n",
       "    }\n",
       "</style>\n",
       "<table border=\"1\" class=\"dataframe\">\n",
       "  <thead>\n",
       "    <tr style=\"text-align: right;\">\n",
       "      <th></th>\n",
       "      <th>channelId</th>\n",
       "    </tr>\n",
       "    <tr>\n",
       "      <th>Year</th>\n",
       "      <th></th>\n",
       "    </tr>\n",
       "  </thead>\n",
       "  <tbody>\n",
       "    <tr>\n",
       "      <th>2005</th>\n",
       "      <td>64</td>\n",
       "    </tr>\n",
       "    <tr>\n",
       "      <th>2006</th>\n",
       "      <td>6868</td>\n",
       "    </tr>\n",
       "    <tr>\n",
       "      <th>2007</th>\n",
       "      <td>24104</td>\n",
       "    </tr>\n",
       "    <tr>\n",
       "      <th>2008</th>\n",
       "      <td>40093</td>\n",
       "    </tr>\n",
       "    <tr>\n",
       "      <th>2009</th>\n",
       "      <td>54334</td>\n",
       "    </tr>\n",
       "    <tr>\n",
       "      <th>2010</th>\n",
       "      <td>63562</td>\n",
       "    </tr>\n",
       "    <tr>\n",
       "      <th>2011</th>\n",
       "      <td>78180</td>\n",
       "    </tr>\n",
       "    <tr>\n",
       "      <th>2012</th>\n",
       "      <td>88769</td>\n",
       "    </tr>\n",
       "    <tr>\n",
       "      <th>2013</th>\n",
       "      <td>92422</td>\n",
       "    </tr>\n",
       "    <tr>\n",
       "      <th>2014</th>\n",
       "      <td>83769</td>\n",
       "    </tr>\n",
       "    <tr>\n",
       "      <th>2015</th>\n",
       "      <td>43445</td>\n",
       "    </tr>\n",
       "    <tr>\n",
       "      <th>All</th>\n",
       "      <td>575610</td>\n",
       "    </tr>\n",
       "  </tbody>\n",
       "</table>\n",
       "</div>"
      ],
      "text/plain": [
       "      channelId\n",
       "Year           \n",
       "2005         64\n",
       "2006       6868\n",
       "2007      24104\n",
       "2008      40093\n",
       "2009      54334\n",
       "2010      63562\n",
       "2011      78180\n",
       "2012      88769\n",
       "2013      92422\n",
       "2014      83769\n",
       "2015      43445\n",
       "All      575610"
      ]
     },
     "execution_count": 14,
     "metadata": {},
     "output_type": "execute_result"
    }
   ],
   "source": [
    "df.pivot_table('channelId',index='Year',margins=True , aggfunc='count')  "
   ]
  },
  {
   "cell_type": "markdown",
   "id": "5e18adfa-f193-4aec-b590-5b6d571fe1c1",
   "metadata": {},
   "source": [
    "---\n",
    "> ### 4. Data Analysis:"
   ]
  },
  {
   "cell_type": "markdown",
   "id": "fb47596f-f7e7-4168-a3b4-4b7f8db6db66",
   "metadata": {},
   "source": [
    "#### 4.1 What is the most popular category by views? :\n",
    "- The data set has several categories. I wanted to check if there is more interest in videos of a certain category on YouTube.\n",
    "- It can be seen that \"24\" category is the most popular."
   ]
  },
  {
   "cell_type": "markdown",
   "id": "b2de1ae9-b733-4b42-a051-3c4efed8f1b0",
   "metadata": {},
   "source": [
    "![](https://raw.githubusercontent.com/nivlevi1/YouTube-Videos-and-Channels-Metadata/main/1.png)"
   ]
  },
  {
   "cell_type": "markdown",
   "id": "24c03606-d52c-4918-a1dc-c9ba918e1787",
   "metadata": {},
   "source": [
    "#### 4.2 Channel spends time analysis :\n",
    "- You can see that in 2012 YouTube's growth trend in terms of user time stopped.\n",
    "- Although users saw the most videos from the \"24\" category, the videos that kept users on YouTube the longest were from the \"10\" category."
   ]
  },
  {
   "cell_type": "markdown",
   "id": "f5fe2ffa-e8ae-46ea-b3c3-1dbe7ae95819",
   "metadata": {},
   "source": [
    "![](https://raw.githubusercontent.com/nivlevi1/YouTube-Videos-and-Channels-Metadata/main/6.png)"
   ]
  },
  {
   "cell_type": "markdown",
   "id": "11e69717-763a-4f94-a6aa-ea50c5af0d6c",
   "metadata": {},
   "source": [
    "#### 4.3 Do subscribers help to break the internet ? & Are the most viewed videos from recent years?   :\n",
    "- The data set has several categories. I wanted to check if there is more interest in videos of a certain category on YouTube.\n",
    "- You can see a positive (medium-weak) relationship between the number of subscribers and the number of views. It will be difficult for a channel with less than 1 million subscribers to get more than 1 billion views.\n",
    "- You can clearly see that the most viewed videos on YouTube are videos from recent years."
   ]
  },
  {
   "cell_type": "markdown",
   "id": "d4cf9666-19ae-4e11-8f95-59ab8cf1b676",
   "metadata": {},
   "source": [
    "![](https://raw.githubusercontent.com/nivlevi1/YouTube-Videos-and-Channels-Metadata/main/2.png)"
   ]
  },
  {
   "cell_type": "markdown",
   "id": "d5dd03d8-f291-4563-9624-eda45aa87859",
   "metadata": {},
   "source": [
    "#### 4.4 Video anlysis   :\n",
    "- 6 of the 10 most viewed videos are from category \"10\". And they are about a third of the number of views of this category.\n",
    "- The \"24\" category-most viewed has only 2 videos in the top 10.\n",
    "- Regarding \"24\" category, the sum of the views on the channels compared to the duration of the spend time, can indicate that this is a category of mainly short videos. Maybe songs."
   ]
  },
  {
   "cell_type": "code",
   "execution_count": 30,
   "id": "5b928f1f-dee4-46c2-9281-2742abb78854",
   "metadata": {},
   "outputs": [
    {
     "data": {
      "text/html": [
       "<div>\n",
       "<style scoped>\n",
       "    .dataframe tbody tr th:only-of-type {\n",
       "        vertical-align: middle;\n",
       "    }\n",
       "\n",
       "    .dataframe tbody tr th {\n",
       "        vertical-align: top;\n",
       "    }\n",
       "\n",
       "    .dataframe thead th {\n",
       "        text-align: right;\n",
       "    }\n",
       "</style>\n",
       "<table border=\"1\" class=\"dataframe\">\n",
       "  <thead>\n",
       "    <tr style=\"text-align: right;\">\n",
       "      <th></th>\n",
       "      <th>videoCategoryId</th>\n",
       "      <th>videoViewCount</th>\n",
       "    </tr>\n",
       "    <tr>\n",
       "      <th>videoId</th>\n",
       "      <th></th>\n",
       "      <th></th>\n",
       "    </tr>\n",
       "  </thead>\n",
       "  <tbody>\n",
       "    <tr>\n",
       "      <th>TDwBuPsrSM4</th>\n",
       "      <td>43</td>\n",
       "      <td>500893946</td>\n",
       "    </tr>\n",
       "    <tr>\n",
       "      <th>4fndeDfaWCg</th>\n",
       "      <td>10</td>\n",
       "      <td>341730801</td>\n",
       "    </tr>\n",
       "    <tr>\n",
       "      <th>VU34MIYBuL8</th>\n",
       "      <td>24</td>\n",
       "      <td>193657457</td>\n",
       "    </tr>\n",
       "    <tr>\n",
       "      <th>3LHrNvG0ayA</th>\n",
       "      <td>10</td>\n",
       "      <td>189850173</td>\n",
       "    </tr>\n",
       "    <tr>\n",
       "      <th>7xzU9Qqdqww</th>\n",
       "      <td>10</td>\n",
       "      <td>147026601</td>\n",
       "    </tr>\n",
       "    <tr>\n",
       "      <th>50GQjUZ4P3M</th>\n",
       "      <td>10</td>\n",
       "      <td>145486455</td>\n",
       "    </tr>\n",
       "    <tr>\n",
       "      <th>TImHWyOyok0</th>\n",
       "      <td>10</td>\n",
       "      <td>139806895</td>\n",
       "    </tr>\n",
       "    <tr>\n",
       "      <th>uCBeC1DoZks</th>\n",
       "      <td>43</td>\n",
       "      <td>129453983</td>\n",
       "    </tr>\n",
       "    <tr>\n",
       "      <th>3yl-5FOZcr0</th>\n",
       "      <td>10</td>\n",
       "      <td>107185267</td>\n",
       "    </tr>\n",
       "    <tr>\n",
       "      <th>2MYcoAcwF0E</th>\n",
       "      <td>24</td>\n",
       "      <td>102398040</td>\n",
       "    </tr>\n",
       "  </tbody>\n",
       "</table>\n",
       "</div>"
      ],
      "text/plain": [
       "             videoCategoryId  videoViewCount\n",
       "videoId                                     \n",
       "TDwBuPsrSM4               43       500893946\n",
       "4fndeDfaWCg               10       341730801\n",
       "VU34MIYBuL8               24       193657457\n",
       "3LHrNvG0ayA               10       189850173\n",
       "7xzU9Qqdqww               10       147026601\n",
       "50GQjUZ4P3M               10       145486455\n",
       "TImHWyOyok0               10       139806895\n",
       "uCBeC1DoZks               43       129453983\n",
       "3yl-5FOZcr0               10       107185267\n",
       "2MYcoAcwF0E               24       102398040"
      ]
     },
     "execution_count": 30,
     "metadata": {},
     "output_type": "execute_result"
    }
   ],
   "source": [
    "df.pivot_table(['videoViewCount','videoCategoryId'], index=['videoId'] , aggfunc='max').sort_values('videoViewCount', ascending =False).head(10)"
   ]
  },
  {
   "cell_type": "markdown",
   "id": "f53260b6-f045-4aa0-a384-b49cce859208",
   "metadata": {},
   "source": [
    "#### 4.5 Do subscribers help to break the internet ? & Are the most viewed videos from recent years?   :\n",
    "- An increasing trend in the average likes and comments for the video over the years.\n",
    "- There is a correlation between the increase in the average number of likes and the average number of comments to the video."
   ]
  },
  {
   "cell_type": "markdown",
   "id": "9d50527b-cad9-489f-afbc-66fa376cecc4",
   "metadata": {},
   "source": [
    "![](https://raw.githubusercontent.com/nivlevi1/YouTube-Videos-and-Channels-Metadata/main/3.png)"
   ]
  },
  {
   "cell_type": "markdown",
   "id": "5d1383f7-a4a2-4c7e-9ead-da2a3275e420",
   "metadata": {},
   "source": [
    "#### 4.6 Does YouTube encourage uploading more videos?   :\n",
    "- You can clearly see an increase in the average number of videos per channel."
   ]
  },
  {
   "cell_type": "markdown",
   "id": "ae1bda67-a407-4ed7-88b9-2a870a6e9cf7",
   "metadata": {},
   "source": [
    "![](https://raw.githubusercontent.com/nivlevi1/YouTube-Videos-and-Channels-Metadata/main/4.png)"
   ]
  },
  {
   "cell_type": "markdown",
   "id": "a0d78515-88f7-4102-8d36-9b106d53772e",
   "metadata": {},
   "source": [
    "#### 4.7 What is the most popular day to publish a video?   :\n",
    "- There is not much difference between the days. But it can be seen that Monday is the most popular day for sharing videos."
   ]
  },
  {
   "cell_type": "markdown",
   "id": "5e3a44bd-bd34-4b36-9251-fe60b53165a7",
   "metadata": {},
   "source": [
    "![](https://raw.githubusercontent.com/nivlevi1/YouTube-Videos-and-Channels-Metadata/main/5.png)"
   ]
  },
  {
   "cell_type": "markdown",
   "id": "4a2d32e6-570c-48d8-8899-b54f1941eecd",
   "metadata": {},
   "source": [
    "#### 4.8 Do users tend to like or dislike videos?   :\n",
    "- Most of the videos got more likes than dislikes."
   ]
  },
  {
   "cell_type": "markdown",
   "id": "bb22c3a6-928d-4a7b-b146-20ec4a8fa463",
   "metadata": {},
   "source": [
    "![](https://raw.githubusercontent.com/nivlevi1/YouTube-Videos-and-Channels-Metadata/main/7.png)"
   ]
  }
 ],
 "metadata": {
  "kernelspec": {
   "display_name": "Python 3 (ipykernel)",
   "language": "python",
   "name": "python3"
  },
  "language_info": {
   "codemirror_mode": {
    "name": "ipython",
    "version": 3
   },
   "file_extension": ".py",
   "mimetype": "text/x-python",
   "name": "python",
   "nbconvert_exporter": "python",
   "pygments_lexer": "ipython3",
   "version": "3.9.12"
  }
 },
 "nbformat": 4,
 "nbformat_minor": 5
}
